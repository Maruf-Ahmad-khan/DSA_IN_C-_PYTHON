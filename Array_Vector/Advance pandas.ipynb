{
 "cells": [
  {
   "cell_type": "code",
   "execution_count": 92,
   "metadata": {},
   "outputs": [],
   "source": [
    "import pandas as pd\n",
    "import numpy as np"
   ]
  },
  {
   "cell_type": "code",
   "execution_count": 93,
   "metadata": {},
   "outputs": [
    {
     "data": {
      "text/html": [
       "<div>\n",
       "<style scoped>\n",
       "    .dataframe tbody tr th:only-of-type {\n",
       "        vertical-align: middle;\n",
       "    }\n",
       "\n",
       "    .dataframe tbody tr th {\n",
       "        vertical-align: top;\n",
       "    }\n",
       "\n",
       "    .dataframe thead th {\n",
       "        text-align: right;\n",
       "    }\n",
       "</style>\n",
       "<table border=\"1\" class=\"dataframe\">\n",
       "  <thead>\n",
       "    <tr style=\"text-align: right;\">\n",
       "      <th></th>\n",
       "      <th>id</th>\n",
       "      <th>price</th>\n",
       "    </tr>\n",
       "  </thead>\n",
       "  <tbody>\n",
       "    <tr>\n",
       "      <th>0</th>\n",
       "      <td>ball</td>\n",
       "      <td>12.33</td>\n",
       "    </tr>\n",
       "    <tr>\n",
       "      <th>1</th>\n",
       "      <td>pencil</td>\n",
       "      <td>11.44</td>\n",
       "    </tr>\n",
       "    <tr>\n",
       "      <th>2</th>\n",
       "      <td>pen</td>\n",
       "      <td>33.21</td>\n",
       "    </tr>\n",
       "    <tr>\n",
       "      <th>3</th>\n",
       "      <td>mug</td>\n",
       "      <td>13.23</td>\n",
       "    </tr>\n",
       "    <tr>\n",
       "      <th>4</th>\n",
       "      <td>ashtray</td>\n",
       "      <td>33.62</td>\n",
       "    </tr>\n",
       "  </tbody>\n",
       "</table>\n",
       "</div>"
      ],
      "text/plain": [
       "        id  price\n",
       "0     ball  12.33\n",
       "1   pencil  11.44\n",
       "2      pen  33.21\n",
       "3      mug  13.23\n",
       "4  ashtray  33.62"
      ]
     },
     "execution_count": 93,
     "metadata": {},
     "output_type": "execute_result"
    }
   ],
   "source": [
    "frame_1 = pd.DataFrame({'id': ['ball', 'pencil', 'pen', 'mug', 'ashtray'],\n",
    "                        'price' : [12.33, 11.44, 33.21, 13.23, 33.62]})\n",
    "frame_1"
   ]
  },
  {
   "cell_type": "code",
   "execution_count": 94,
   "metadata": {},
   "outputs": [
    {
     "data": {
      "text/html": [
       "<div>\n",
       "<style scoped>\n",
       "    .dataframe tbody tr th:only-of-type {\n",
       "        vertical-align: middle;\n",
       "    }\n",
       "\n",
       "    .dataframe tbody tr th {\n",
       "        vertical-align: top;\n",
       "    }\n",
       "\n",
       "    .dataframe thead th {\n",
       "        text-align: right;\n",
       "    }\n",
       "</style>\n",
       "<table border=\"1\" class=\"dataframe\">\n",
       "  <thead>\n",
       "    <tr style=\"text-align: right;\">\n",
       "      <th></th>\n",
       "      <th>id</th>\n",
       "      <th>color</th>\n",
       "    </tr>\n",
       "  </thead>\n",
       "  <tbody>\n",
       "    <tr>\n",
       "      <th>0</th>\n",
       "      <td>pencil</td>\n",
       "      <td>white</td>\n",
       "    </tr>\n",
       "    <tr>\n",
       "      <th>1</th>\n",
       "      <td>pencil</td>\n",
       "      <td>red</td>\n",
       "    </tr>\n",
       "    <tr>\n",
       "      <th>2</th>\n",
       "      <td>ball</td>\n",
       "      <td>red</td>\n",
       "    </tr>\n",
       "    <tr>\n",
       "      <th>3</th>\n",
       "      <td>pen</td>\n",
       "      <td>black</td>\n",
       "    </tr>\n",
       "  </tbody>\n",
       "</table>\n",
       "</div>"
      ],
      "text/plain": [
       "       id  color\n",
       "0  pencil  white\n",
       "1  pencil    red\n",
       "2    ball    red\n",
       "3     pen  black"
      ]
     },
     "execution_count": 94,
     "metadata": {},
     "output_type": "execute_result"
    }
   ],
   "source": [
    "frame_2 = pd.DataFrame({'id' : ['pencil', 'pencil', 'ball', 'pen'],\n",
    "                        'color' : ['white', 'red', 'red', 'black']})\n",
    "frame_2"
   ]
  },
  {
   "cell_type": "code",
   "execution_count": 95,
   "metadata": {},
   "outputs": [],
   "source": [
    "result = pd.merge(frame_1, frame_2)"
   ]
  },
  {
   "cell_type": "code",
   "execution_count": 96,
   "metadata": {},
   "outputs": [
    {
     "data": {
      "text/html": [
       "<div>\n",
       "<style scoped>\n",
       "    .dataframe tbody tr th:only-of-type {\n",
       "        vertical-align: middle;\n",
       "    }\n",
       "\n",
       "    .dataframe tbody tr th {\n",
       "        vertical-align: top;\n",
       "    }\n",
       "\n",
       "    .dataframe thead th {\n",
       "        text-align: right;\n",
       "    }\n",
       "</style>\n",
       "<table border=\"1\" class=\"dataframe\">\n",
       "  <thead>\n",
       "    <tr style=\"text-align: right;\">\n",
       "      <th></th>\n",
       "      <th>id</th>\n",
       "      <th>price</th>\n",
       "      <th>color</th>\n",
       "    </tr>\n",
       "  </thead>\n",
       "  <tbody>\n",
       "    <tr>\n",
       "      <th>0</th>\n",
       "      <td>ball</td>\n",
       "      <td>12.33</td>\n",
       "      <td>red</td>\n",
       "    </tr>\n",
       "    <tr>\n",
       "      <th>1</th>\n",
       "      <td>pencil</td>\n",
       "      <td>11.44</td>\n",
       "      <td>white</td>\n",
       "    </tr>\n",
       "    <tr>\n",
       "      <th>2</th>\n",
       "      <td>pencil</td>\n",
       "      <td>11.44</td>\n",
       "      <td>red</td>\n",
       "    </tr>\n",
       "    <tr>\n",
       "      <th>3</th>\n",
       "      <td>pen</td>\n",
       "      <td>33.21</td>\n",
       "      <td>black</td>\n",
       "    </tr>\n",
       "  </tbody>\n",
       "</table>\n",
       "</div>"
      ],
      "text/plain": [
       "       id  price  color\n",
       "0    ball  12.33    red\n",
       "1  pencil  11.44  white\n",
       "2  pencil  11.44    red\n",
       "3     pen  33.21  black"
      ]
     },
     "execution_count": 96,
     "metadata": {},
     "output_type": "execute_result"
    }
   ],
   "source": [
    "result"
   ]
  },
  {
   "cell_type": "code",
   "execution_count": 97,
   "metadata": {},
   "outputs": [],
   "source": [
    "data = pd.read_csv(r\"C:\\Users\\mk744\\Downloads\\campusX dataset\\imdb-top-1000.csv\")"
   ]
  },
  {
   "cell_type": "code",
   "execution_count": 98,
   "metadata": {},
   "outputs": [
    {
     "data": {
      "text/html": [
       "<div>\n",
       "<style scoped>\n",
       "    .dataframe tbody tr th:only-of-type {\n",
       "        vertical-align: middle;\n",
       "    }\n",
       "\n",
       "    .dataframe tbody tr th {\n",
       "        vertical-align: top;\n",
       "    }\n",
       "\n",
       "    .dataframe thead th {\n",
       "        text-align: right;\n",
       "    }\n",
       "</style>\n",
       "<table border=\"1\" class=\"dataframe\">\n",
       "  <thead>\n",
       "    <tr style=\"text-align: right;\">\n",
       "      <th></th>\n",
       "      <th>Series_Title</th>\n",
       "      <th>Released_Year</th>\n",
       "      <th>Runtime</th>\n",
       "      <th>Genre</th>\n",
       "      <th>IMDB_Rating</th>\n",
       "      <th>Director</th>\n",
       "      <th>Star1</th>\n",
       "      <th>No_of_Votes</th>\n",
       "      <th>Gross</th>\n",
       "      <th>Metascore</th>\n",
       "    </tr>\n",
       "  </thead>\n",
       "  <tbody>\n",
       "    <tr>\n",
       "      <th>0</th>\n",
       "      <td>The Shawshank Redemption</td>\n",
       "      <td>1994</td>\n",
       "      <td>142</td>\n",
       "      <td>Drama</td>\n",
       "      <td>9.3</td>\n",
       "      <td>Frank Darabont</td>\n",
       "      <td>Tim Robbins</td>\n",
       "      <td>2343110</td>\n",
       "      <td>28341469.0</td>\n",
       "      <td>80.0</td>\n",
       "    </tr>\n",
       "    <tr>\n",
       "      <th>1</th>\n",
       "      <td>The Godfather</td>\n",
       "      <td>1972</td>\n",
       "      <td>175</td>\n",
       "      <td>Crime</td>\n",
       "      <td>9.2</td>\n",
       "      <td>Francis Ford Coppola</td>\n",
       "      <td>Marlon Brando</td>\n",
       "      <td>1620367</td>\n",
       "      <td>134966411.0</td>\n",
       "      <td>100.0</td>\n",
       "    </tr>\n",
       "    <tr>\n",
       "      <th>2</th>\n",
       "      <td>The Dark Knight</td>\n",
       "      <td>2008</td>\n",
       "      <td>152</td>\n",
       "      <td>Action</td>\n",
       "      <td>9.0</td>\n",
       "      <td>Christopher Nolan</td>\n",
       "      <td>Christian Bale</td>\n",
       "      <td>2303232</td>\n",
       "      <td>534858444.0</td>\n",
       "      <td>84.0</td>\n",
       "    </tr>\n",
       "    <tr>\n",
       "      <th>3</th>\n",
       "      <td>The Godfather: Part II</td>\n",
       "      <td>1974</td>\n",
       "      <td>202</td>\n",
       "      <td>Crime</td>\n",
       "      <td>9.0</td>\n",
       "      <td>Francis Ford Coppola</td>\n",
       "      <td>Al Pacino</td>\n",
       "      <td>1129952</td>\n",
       "      <td>57300000.0</td>\n",
       "      <td>90.0</td>\n",
       "    </tr>\n",
       "    <tr>\n",
       "      <th>4</th>\n",
       "      <td>12 Angry Men</td>\n",
       "      <td>1957</td>\n",
       "      <td>96</td>\n",
       "      <td>Crime</td>\n",
       "      <td>9.0</td>\n",
       "      <td>Sidney Lumet</td>\n",
       "      <td>Henry Fonda</td>\n",
       "      <td>689845</td>\n",
       "      <td>4360000.0</td>\n",
       "      <td>96.0</td>\n",
       "    </tr>\n",
       "  </tbody>\n",
       "</table>\n",
       "</div>"
      ],
      "text/plain": [
       "               Series_Title Released_Year  Runtime   Genre  IMDB_Rating  \\\n",
       "0  The Shawshank Redemption          1994      142   Drama          9.3   \n",
       "1             The Godfather          1972      175   Crime          9.2   \n",
       "2           The Dark Knight          2008      152  Action          9.0   \n",
       "3    The Godfather: Part II          1974      202   Crime          9.0   \n",
       "4              12 Angry Men          1957       96   Crime          9.0   \n",
       "\n",
       "               Director           Star1  No_of_Votes        Gross  Metascore  \n",
       "0        Frank Darabont     Tim Robbins      2343110   28341469.0       80.0  \n",
       "1  Francis Ford Coppola   Marlon Brando      1620367  134966411.0      100.0  \n",
       "2     Christopher Nolan  Christian Bale      2303232  534858444.0       84.0  \n",
       "3  Francis Ford Coppola       Al Pacino      1129952   57300000.0       90.0  \n",
       "4          Sidney Lumet     Henry Fonda       689845    4360000.0       96.0  "
      ]
     },
     "execution_count": 98,
     "metadata": {},
     "output_type": "execute_result"
    }
   ],
   "source": [
    "data.head()"
   ]
  },
  {
   "cell_type": "code",
   "execution_count": 99,
   "metadata": {},
   "outputs": [
    {
     "data": {
      "text/html": [
       "<div>\n",
       "<style scoped>\n",
       "    .dataframe tbody tr th:only-of-type {\n",
       "        vertical-align: middle;\n",
       "    }\n",
       "\n",
       "    .dataframe tbody tr th {\n",
       "        vertical-align: top;\n",
       "    }\n",
       "\n",
       "    .dataframe thead th {\n",
       "        text-align: right;\n",
       "    }\n",
       "</style>\n",
       "<table border=\"1\" class=\"dataframe\">\n",
       "  <thead>\n",
       "    <tr style=\"text-align: right;\">\n",
       "      <th></th>\n",
       "      <th>Series_Title</th>\n",
       "      <th>Genre</th>\n",
       "      <th>Director</th>\n",
       "      <th>Star1</th>\n",
       "    </tr>\n",
       "  </thead>\n",
       "  <tbody>\n",
       "    <tr>\n",
       "      <th>0</th>\n",
       "      <td>The Shawshank Redemption</td>\n",
       "      <td>Drama</td>\n",
       "      <td>Frank Darabont</td>\n",
       "      <td>Tim Robbins</td>\n",
       "    </tr>\n",
       "    <tr>\n",
       "      <th>1</th>\n",
       "      <td>The Godfather</td>\n",
       "      <td>Crime</td>\n",
       "      <td>Francis Ford Coppola</td>\n",
       "      <td>Marlon Brando</td>\n",
       "    </tr>\n",
       "    <tr>\n",
       "      <th>2</th>\n",
       "      <td>The Dark Knight</td>\n",
       "      <td>Action</td>\n",
       "      <td>Christopher Nolan</td>\n",
       "      <td>Christian Bale</td>\n",
       "    </tr>\n",
       "    <tr>\n",
       "      <th>3</th>\n",
       "      <td>The Godfather: Part II</td>\n",
       "      <td>Crime</td>\n",
       "      <td>Francis Ford Coppola</td>\n",
       "      <td>Al Pacino</td>\n",
       "    </tr>\n",
       "    <tr>\n",
       "      <th>4</th>\n",
       "      <td>12 Angry Men</td>\n",
       "      <td>Crime</td>\n",
       "      <td>Sidney Lumet</td>\n",
       "      <td>Henry Fonda</td>\n",
       "    </tr>\n",
       "  </tbody>\n",
       "</table>\n",
       "</div>"
      ],
      "text/plain": [
       "               Series_Title   Genre              Director           Star1\n",
       "0  The Shawshank Redemption   Drama        Frank Darabont     Tim Robbins\n",
       "1             The Godfather   Crime  Francis Ford Coppola   Marlon Brando\n",
       "2           The Dark Knight  Action     Christopher Nolan  Christian Bale\n",
       "3    The Godfather: Part II   Crime  Francis Ford Coppola       Al Pacino\n",
       "4              12 Angry Men   Crime          Sidney Lumet     Henry Fonda"
      ]
     },
     "execution_count": 99,
     "metadata": {},
     "output_type": "execute_result"
    }
   ],
   "source": [
    "Frame_1 = data[['Series_Title', 'Genre','Director','Star1']].head()\n",
    "Frame_1"
   ]
  },
  {
   "cell_type": "code",
   "execution_count": 100,
   "metadata": {},
   "outputs": [
    {
     "data": {
      "text/html": [
       "<div>\n",
       "<style scoped>\n",
       "    .dataframe tbody tr th:only-of-type {\n",
       "        vertical-align: middle;\n",
       "    }\n",
       "\n",
       "    .dataframe tbody tr th {\n",
       "        vertical-align: top;\n",
       "    }\n",
       "\n",
       "    .dataframe thead th {\n",
       "        text-align: right;\n",
       "    }\n",
       "</style>\n",
       "<table border=\"1\" class=\"dataframe\">\n",
       "  <thead>\n",
       "    <tr style=\"text-align: right;\">\n",
       "      <th></th>\n",
       "      <th>Released_Year</th>\n",
       "      <th>Runtime</th>\n",
       "      <th>IMDB_Rating</th>\n",
       "      <th>No_of_Votes</th>\n",
       "    </tr>\n",
       "  </thead>\n",
       "  <tbody>\n",
       "    <tr>\n",
       "      <th>0</th>\n",
       "      <td>1994</td>\n",
       "      <td>142</td>\n",
       "      <td>9.3</td>\n",
       "      <td>2343110</td>\n",
       "    </tr>\n",
       "    <tr>\n",
       "      <th>1</th>\n",
       "      <td>1972</td>\n",
       "      <td>175</td>\n",
       "      <td>9.2</td>\n",
       "      <td>1620367</td>\n",
       "    </tr>\n",
       "    <tr>\n",
       "      <th>2</th>\n",
       "      <td>2008</td>\n",
       "      <td>152</td>\n",
       "      <td>9.0</td>\n",
       "      <td>2303232</td>\n",
       "    </tr>\n",
       "    <tr>\n",
       "      <th>3</th>\n",
       "      <td>1974</td>\n",
       "      <td>202</td>\n",
       "      <td>9.0</td>\n",
       "      <td>1129952</td>\n",
       "    </tr>\n",
       "    <tr>\n",
       "      <th>4</th>\n",
       "      <td>1957</td>\n",
       "      <td>96</td>\n",
       "      <td>9.0</td>\n",
       "      <td>689845</td>\n",
       "    </tr>\n",
       "  </tbody>\n",
       "</table>\n",
       "</div>"
      ],
      "text/plain": [
       "  Released_Year  Runtime  IMDB_Rating  No_of_Votes\n",
       "0          1994      142          9.3      2343110\n",
       "1          1972      175          9.2      1620367\n",
       "2          2008      152          9.0      2303232\n",
       "3          1974      202          9.0      1129952\n",
       "4          1957       96          9.0       689845"
      ]
     },
     "execution_count": 100,
     "metadata": {},
     "output_type": "execute_result"
    }
   ],
   "source": [
    "Frame_2 = data[['Released_Year', 'Runtime','IMDB_Rating','No_of_Votes']].head()\n",
    "Frame_2"
   ]
  },
  {
   "cell_type": "code",
   "execution_count": 101,
   "metadata": {},
   "outputs": [
    {
     "data": {
      "text/plain": [
       "<pandas.core.groupby.generic.DataFrameGroupBy object at 0x0000027279CEDEA0>"
      ]
     },
     "execution_count": 101,
     "metadata": {},
     "output_type": "execute_result"
    }
   ],
   "source": [
    "Frame_3 = data.groupby('Released_Year')\n",
    "Frame_3"
   ]
  },
  {
   "cell_type": "code",
   "execution_count": 102,
   "metadata": {},
   "outputs": [
    {
     "data": {
      "text/html": [
       "<div>\n",
       "<style scoped>\n",
       "    .dataframe tbody tr th:only-of-type {\n",
       "        vertical-align: middle;\n",
       "    }\n",
       "\n",
       "    .dataframe tbody tr th {\n",
       "        vertical-align: top;\n",
       "    }\n",
       "\n",
       "    .dataframe thead th {\n",
       "        text-align: right;\n",
       "    }\n",
       "</style>\n",
       "<table border=\"1\" class=\"dataframe\">\n",
       "  <thead>\n",
       "    <tr style=\"text-align: right;\">\n",
       "      <th></th>\n",
       "      <th>Series_Title</th>\n",
       "      <th>Runtime</th>\n",
       "      <th>Genre</th>\n",
       "      <th>IMDB_Rating</th>\n",
       "      <th>Director</th>\n",
       "      <th>Star1</th>\n",
       "      <th>No_of_Votes</th>\n",
       "      <th>Gross</th>\n",
       "      <th>Metascore</th>\n",
       "    </tr>\n",
       "    <tr>\n",
       "      <th>Released_Year</th>\n",
       "      <th></th>\n",
       "      <th></th>\n",
       "      <th></th>\n",
       "      <th></th>\n",
       "      <th></th>\n",
       "      <th></th>\n",
       "      <th></th>\n",
       "      <th></th>\n",
       "      <th></th>\n",
       "    </tr>\n",
       "  </thead>\n",
       "  <tbody>\n",
       "    <tr>\n",
       "      <th>1920</th>\n",
       "      <td>Das Cabinet des Dr. Caligari</td>\n",
       "      <td>76</td>\n",
       "      <td>Fantasy</td>\n",
       "      <td>8.1</td>\n",
       "      <td>Robert Wiene</td>\n",
       "      <td>Werner Krauss</td>\n",
       "      <td>57428</td>\n",
       "      <td>337574718.0</td>\n",
       "      <td>0.0</td>\n",
       "    </tr>\n",
       "    <tr>\n",
       "      <th>1921</th>\n",
       "      <td>The Kid</td>\n",
       "      <td>68</td>\n",
       "      <td>Comedy</td>\n",
       "      <td>8.3</td>\n",
       "      <td>Charles Chaplin</td>\n",
       "      <td>Charles Chaplin</td>\n",
       "      <td>113314</td>\n",
       "      <td>5450000.0</td>\n",
       "      <td>0.0</td>\n",
       "    </tr>\n",
       "    <tr>\n",
       "      <th>1922</th>\n",
       "      <td>Nosferatu</td>\n",
       "      <td>94</td>\n",
       "      <td>Fantasy</td>\n",
       "      <td>7.9</td>\n",
       "      <td>F.W. Murnau</td>\n",
       "      <td>Max Schreck</td>\n",
       "      <td>88794</td>\n",
       "      <td>445151978.0</td>\n",
       "      <td>0.0</td>\n",
       "    </tr>\n",
       "    <tr>\n",
       "      <th>1924</th>\n",
       "      <td>Sherlock Jr.</td>\n",
       "      <td>45</td>\n",
       "      <td>Action</td>\n",
       "      <td>8.2</td>\n",
       "      <td>Buster Keaton</td>\n",
       "      <td>Buster Keaton</td>\n",
       "      <td>41985</td>\n",
       "      <td>977375.0</td>\n",
       "      <td>0.0</td>\n",
       "    </tr>\n",
       "    <tr>\n",
       "      <th>1925</th>\n",
       "      <td>The Gold RushBronenosets Potemkin</td>\n",
       "      <td>170</td>\n",
       "      <td>AdventureDrama</td>\n",
       "      <td>16.2</td>\n",
       "      <td>Charles ChaplinSergei M. Eisenstein</td>\n",
       "      <td>Charles ChaplinAleksandr Antonov</td>\n",
       "      <td>154107</td>\n",
       "      <td>5500970.0</td>\n",
       "      <td>97.0</td>\n",
       "    </tr>\n",
       "  </tbody>\n",
       "</table>\n",
       "</div>"
      ],
      "text/plain": [
       "                                    Series_Title  Runtime           Genre  \\\n",
       "Released_Year                                                               \n",
       "1920                Das Cabinet des Dr. Caligari       76         Fantasy   \n",
       "1921                                     The Kid       68          Comedy   \n",
       "1922                                   Nosferatu       94         Fantasy   \n",
       "1924                                Sherlock Jr.       45          Action   \n",
       "1925           The Gold RushBronenosets Potemkin      170  AdventureDrama   \n",
       "\n",
       "               IMDB_Rating                             Director  \\\n",
       "Released_Year                                                     \n",
       "1920                   8.1                         Robert Wiene   \n",
       "1921                   8.3                      Charles Chaplin   \n",
       "1922                   7.9                          F.W. Murnau   \n",
       "1924                   8.2                        Buster Keaton   \n",
       "1925                  16.2  Charles ChaplinSergei M. Eisenstein   \n",
       "\n",
       "                                          Star1  No_of_Votes        Gross  \\\n",
       "Released_Year                                                               \n",
       "1920                              Werner Krauss        57428  337574718.0   \n",
       "1921                            Charles Chaplin       113314    5450000.0   \n",
       "1922                                Max Schreck        88794  445151978.0   \n",
       "1924                              Buster Keaton        41985     977375.0   \n",
       "1925           Charles ChaplinAleksandr Antonov       154107    5500970.0   \n",
       "\n",
       "               Metascore  \n",
       "Released_Year             \n",
       "1920                 0.0  \n",
       "1921                 0.0  \n",
       "1922                 0.0  \n",
       "1924                 0.0  \n",
       "1925                97.0  "
      ]
     },
     "execution_count": 102,
     "metadata": {},
     "output_type": "execute_result"
    }
   ],
   "source": [
    "Frame_3.sum().head()"
   ]
  },
  {
   "cell_type": "code",
   "execution_count": 103,
   "metadata": {},
   "outputs": [
    {
     "data": {
      "text/html": [
       "<div>\n",
       "<style scoped>\n",
       "    .dataframe tbody tr th:only-of-type {\n",
       "        vertical-align: middle;\n",
       "    }\n",
       "\n",
       "    .dataframe tbody tr th {\n",
       "        vertical-align: top;\n",
       "    }\n",
       "\n",
       "    .dataframe thead th {\n",
       "        text-align: right;\n",
       "    }\n",
       "</style>\n",
       "<table border=\"1\" class=\"dataframe\">\n",
       "  <thead>\n",
       "    <tr style=\"text-align: right;\">\n",
       "      <th></th>\n",
       "      <th>Series_Title</th>\n",
       "      <th>Runtime</th>\n",
       "      <th>Genre</th>\n",
       "      <th>IMDB_Rating</th>\n",
       "      <th>Director</th>\n",
       "      <th>Star1</th>\n",
       "      <th>No_of_Votes</th>\n",
       "      <th>Gross</th>\n",
       "      <th>Metascore</th>\n",
       "    </tr>\n",
       "    <tr>\n",
       "      <th>Released_Year</th>\n",
       "      <th></th>\n",
       "      <th></th>\n",
       "      <th></th>\n",
       "      <th></th>\n",
       "      <th></th>\n",
       "      <th></th>\n",
       "      <th></th>\n",
       "      <th></th>\n",
       "      <th></th>\n",
       "    </tr>\n",
       "  </thead>\n",
       "  <tbody>\n",
       "    <tr>\n",
       "      <th>1920</th>\n",
       "      <td>Das Cabinet des Dr. Caligari</td>\n",
       "      <td>76</td>\n",
       "      <td>Fantasy</td>\n",
       "      <td>8.1</td>\n",
       "      <td>Robert Wiene</td>\n",
       "      <td>Werner Krauss</td>\n",
       "      <td>57428</td>\n",
       "      <td>337574718.0</td>\n",
       "      <td>NaN</td>\n",
       "    </tr>\n",
       "    <tr>\n",
       "      <th>1921</th>\n",
       "      <td>The Kid</td>\n",
       "      <td>68</td>\n",
       "      <td>Comedy</td>\n",
       "      <td>8.3</td>\n",
       "      <td>Charles Chaplin</td>\n",
       "      <td>Charles Chaplin</td>\n",
       "      <td>113314</td>\n",
       "      <td>5450000.0</td>\n",
       "      <td>NaN</td>\n",
       "    </tr>\n",
       "    <tr>\n",
       "      <th>1922</th>\n",
       "      <td>Nosferatu</td>\n",
       "      <td>94</td>\n",
       "      <td>Fantasy</td>\n",
       "      <td>7.9</td>\n",
       "      <td>F.W. Murnau</td>\n",
       "      <td>Max Schreck</td>\n",
       "      <td>88794</td>\n",
       "      <td>445151978.0</td>\n",
       "      <td>NaN</td>\n",
       "    </tr>\n",
       "    <tr>\n",
       "      <th>1924</th>\n",
       "      <td>Sherlock Jr.</td>\n",
       "      <td>45</td>\n",
       "      <td>Action</td>\n",
       "      <td>8.2</td>\n",
       "      <td>Buster Keaton</td>\n",
       "      <td>Buster Keaton</td>\n",
       "      <td>41985</td>\n",
       "      <td>977375.0</td>\n",
       "      <td>NaN</td>\n",
       "    </tr>\n",
       "    <tr>\n",
       "      <th>1925</th>\n",
       "      <td>The Gold Rush</td>\n",
       "      <td>95</td>\n",
       "      <td>Drama</td>\n",
       "      <td>8.2</td>\n",
       "      <td>Sergei M. Eisenstein</td>\n",
       "      <td>Charles Chaplin</td>\n",
       "      <td>101053</td>\n",
       "      <td>5450000.0</td>\n",
       "      <td>97.0</td>\n",
       "    </tr>\n",
       "  </tbody>\n",
       "</table>\n",
       "</div>"
      ],
      "text/plain": [
       "                               Series_Title  Runtime    Genre  IMDB_Rating  \\\n",
       "Released_Year                                                                \n",
       "1920           Das Cabinet des Dr. Caligari       76  Fantasy          8.1   \n",
       "1921                                The Kid       68   Comedy          8.3   \n",
       "1922                              Nosferatu       94  Fantasy          7.9   \n",
       "1924                           Sherlock Jr.       45   Action          8.2   \n",
       "1925                          The Gold Rush       95    Drama          8.2   \n",
       "\n",
       "                           Director            Star1  No_of_Votes  \\\n",
       "Released_Year                                                       \n",
       "1920                   Robert Wiene    Werner Krauss        57428   \n",
       "1921                Charles Chaplin  Charles Chaplin       113314   \n",
       "1922                    F.W. Murnau      Max Schreck        88794   \n",
       "1924                  Buster Keaton    Buster Keaton        41985   \n",
       "1925           Sergei M. Eisenstein  Charles Chaplin       101053   \n",
       "\n",
       "                     Gross  Metascore  \n",
       "Released_Year                          \n",
       "1920           337574718.0        NaN  \n",
       "1921             5450000.0        NaN  \n",
       "1922           445151978.0        NaN  \n",
       "1924              977375.0        NaN  \n",
       "1925             5450000.0       97.0  "
      ]
     },
     "execution_count": 103,
     "metadata": {},
     "output_type": "execute_result"
    }
   ],
   "source": [
    "Frame_3.max().head()"
   ]
  },
  {
   "cell_type": "code",
   "execution_count": 104,
   "metadata": {},
   "outputs": [
    {
     "data": {
      "text/plain": [
       "Released_Year\n",
       "2018    5.658824e+09\n",
       "1962    5.493865e+09\n",
       "2019    5.360133e+09\n",
       "Name: Gross, dtype: float64"
      ]
     },
     "execution_count": 104,
     "metadata": {},
     "output_type": "execute_result"
    }
   ],
   "source": [
    "Frame_4=data.groupby('Released_Year').sum()['Gross'].sort_values(ascending= False).head(3)\n",
    "Frame_4"
   ]
  },
  {
   "cell_type": "code",
   "execution_count": 105,
   "metadata": {},
   "outputs": [
    {
     "data": {
      "text/plain": [
       "<Axes: xlabel='Released_Year'>"
      ]
     },
     "execution_count": 105,
     "metadata": {},
     "output_type": "execute_result"
    },
    {
     "data": {
      "image/png": "[encoded data removed]",
      "text/plain": [
       "<Figure size 640x480 with 1 Axes>"
      ]
     },
     "metadata": {},
     "output_type": "display_data"
    }
   ],
   "source": [
    "Frame_4.plot(kind= 'bar')"
   ]
  },
  {
   "cell_type": "code",
   "execution_count": 106,
   "metadata": {},
   "outputs": [
    {
     "data": {
      "text/plain": [
       "Genre\n",
       "Drama        9.3\n",
       "Crime        9.2\n",
       "Action       9.0\n",
       "Biography    8.9\n",
       "Western      8.8\n",
       "Name: IMDB_Rating, dtype: float64"
      ]
     },
     "execution_count": 106,
     "metadata": {},
     "output_type": "execute_result"
    }
   ],
   "source": [
    "Frame_5 = data.groupby('Genre').max()['IMDB_Rating'].sort_values(ascending= False).head()\n",
    "Frame_5"
   ]
  },
  {
   "cell_type": "code",
   "execution_count": 107,
   "metadata": {},
   "outputs": [
    {
     "data": {
      "text/plain": [
       "<Axes: xlabel='Genre'>"
      ]
     },
     "execution_count": 107,
     "metadata": {},
     "output_type": "execute_result"
    },
    {
     "data": {
      "image/png": "[encoded data removed]",
      "text/plain": [
       "<Figure size 640x480 with 1 Axes>"
      ]
     },
     "metadata": {},
     "output_type": "display_data"
    }
   ],
   "source": [
    "Frame_5.plot(kind = 'bar')"
   ]
  },
  {
   "cell_type": "code",
   "execution_count": 108,
   "metadata": {},
   "outputs": [
    {
     "data": {
      "text/plain": [
       "<Axes: ylabel='IMDB_Rating'>"
      ]
     },
     "execution_count": 108,
     "metadata": {},
     "output_type": "execute_result"
    },
    {
     "data": {
      "image/png": "[encoded data removed]",
      "text/plain": [
       "<Figure size 640x480 with 1 Axes>"
      ]
     },
     "metadata": {},
     "output_type": "display_data"
    }
   ],
   "source": [
    "Frame_5.plot(kind= 'pie')"
   ]
  },
  {
   "cell_type": "code",
   "execution_count": 109,
   "metadata": {},
   "outputs": [
    {
     "data": {
      "text/plain": [
       "Genre\n",
       "Drama        9.3\n",
       "Crime        9.2\n",
       "Action       9.0\n",
       "Biography    8.9\n",
       "Western      8.8\n",
       "Name: IMDB_Rating, dtype: float64"
      ]
     },
     "execution_count": 109,
     "metadata": {},
     "output_type": "execute_result"
    }
   ],
   "source": [
    "# Find the highest rated movies of each genre\n",
    "data.groupby('Genre').max()['IMDB_Rating'].sort_values(ascending=False).head()"
   ]
  },
  {
   "cell_type": "code",
   "execution_count": 110,
   "metadata": {},
   "outputs": [
    {
     "data": {
      "text/plain": [
       "14"
      ]
     },
     "execution_count": 110,
     "metadata": {},
     "output_type": "execute_result"
    }
   ],
   "source": [
    "# find total number of groups\n",
    "len(data.groupby('Genre'))"
   ]
  },
  {
   "cell_type": "code",
   "execution_count": 111,
   "metadata": {},
   "outputs": [
    {
     "name": "stdout",
     "output_type": "stream",
     "text": [
      "The numbers of groups are in the IMDB_Rating Attribute is :\n",
      "IMDB_Rating\n",
      "7.7    157\n",
      "7.8    151\n",
      "8.0    141\n",
      "8.1    127\n",
      "7.6    123\n",
      "7.9    106\n",
      "8.2     67\n",
      "8.3     44\n",
      "8.4     31\n",
      "8.5     20\n",
      "8.6     15\n",
      "8.7      5\n",
      "8.8      5\n",
      "8.9      3\n",
      "9.0      3\n",
      "9.2      1\n",
      "9.3      1\n",
      "Name: count, dtype: int64\n",
      "The groups are in the numbers :  17\n"
     ]
    }
   ],
   "source": [
    "print(\"The numbers of groups are in the IMDB_Rating Attribute is :\")\n",
    "Group_IMDB = data['IMDB_Rating'].value_counts()\n",
    "print(Group_IMDB)\n",
    "print(\"The groups are in the numbers : \", len(data.groupby('IMDB_Rating')))"
   ]
  },
  {
   "cell_type": "code",
   "execution_count": 112,
   "metadata": {},
   "outputs": [
    {
     "name": "stdout",
     "output_type": "stream",
     "text": [
      "The total number of groups are in the Genre Attributes : \n",
      "\n",
      "Genre\n",
      "Drama        289\n",
      "Action       172\n",
      "Comedy       155\n",
      "Crime        107\n",
      "Biography     88\n",
      "Animation     82\n",
      "Adventure     72\n",
      "Mystery       12\n",
      "Horror        11\n",
      "Western        4\n",
      "Film-Noir      3\n",
      "Fantasy        2\n",
      "Family         2\n",
      "Thriller       1\n",
      "Name: count, dtype: int64\n",
      "The numbers are : 14\n"
     ]
    }
   ],
   "source": [
    "Groups_Genre = data['Genre'].value_counts()\n",
    "print(\"The total number of groups are in the Genre Attributes : \\n\")\n",
    "print(Groups_Genre)\n",
    "print(\"The numbers are :\", len(data.groupby('Genre')))"
   ]
  },
  {
   "cell_type": "code",
   "execution_count": 113,
   "metadata": {},
   "outputs": [
    {
     "data": {
      "text/html": [
       "<div>\n",
       "<style scoped>\n",
       "    .dataframe tbody tr th:only-of-type {\n",
       "        vertical-align: middle;\n",
       "    }\n",
       "\n",
       "    .dataframe tbody tr th {\n",
       "        vertical-align: top;\n",
       "    }\n",
       "\n",
       "    .dataframe thead th {\n",
       "        text-align: right;\n",
       "    }\n",
       "</style>\n",
       "<table border=\"1\" class=\"dataframe\">\n",
       "  <thead>\n",
       "    <tr style=\"text-align: right;\">\n",
       "      <th></th>\n",
       "      <th>Genre</th>\n",
       "    </tr>\n",
       "  </thead>\n",
       "  <tbody>\n",
       "    <tr>\n",
       "      <th>0</th>\n",
       "      <td>Drama</td>\n",
       "    </tr>\n",
       "    <tr>\n",
       "      <th>1</th>\n",
       "      <td>Crime</td>\n",
       "    </tr>\n",
       "    <tr>\n",
       "      <th>2</th>\n",
       "      <td>Action</td>\n",
       "    </tr>\n",
       "    <tr>\n",
       "      <th>7</th>\n",
       "      <td>Biography</td>\n",
       "    </tr>\n",
       "    <tr>\n",
       "      <th>12</th>\n",
       "      <td>Western</td>\n",
       "    </tr>\n",
       "    <tr>\n",
       "      <th>19</th>\n",
       "      <td>Comedy</td>\n",
       "    </tr>\n",
       "    <tr>\n",
       "      <th>21</th>\n",
       "      <td>Adventure</td>\n",
       "    </tr>\n",
       "    <tr>\n",
       "      <th>23</th>\n",
       "      <td>Animation</td>\n",
       "    </tr>\n",
       "    <tr>\n",
       "      <th>49</th>\n",
       "      <td>Horror</td>\n",
       "    </tr>\n",
       "    <tr>\n",
       "      <th>69</th>\n",
       "      <td>Mystery</td>\n",
       "    </tr>\n",
       "    <tr>\n",
       "      <th>309</th>\n",
       "      <td>Film-Noir</td>\n",
       "    </tr>\n",
       "    <tr>\n",
       "      <th>321</th>\n",
       "      <td>Fantasy</td>\n",
       "    </tr>\n",
       "    <tr>\n",
       "      <th>688</th>\n",
       "      <td>Family</td>\n",
       "    </tr>\n",
       "  </tbody>\n",
       "</table>\n",
       "</div>"
      ],
      "text/plain": [
       "         Genre\n",
       "0        Drama\n",
       "1        Crime\n",
       "2       Action\n",
       "7    Biography\n",
       "12     Western\n",
       "19      Comedy\n",
       "21   Adventure\n",
       "23   Animation\n",
       "49      Horror\n",
       "69     Mystery\n",
       "309  Film-Noir\n",
       "321    Fantasy\n",
       "688     Family"
      ]
     },
     "execution_count": 113,
     "metadata": {},
     "output_type": "execute_result"
    }
   ],
   "source": [
    "result = data[data.duplicated(subset = 'Genre', keep = 'last')][['Genre']].drop_duplicates()\n",
    "result "
   ]
  },
  {
   "cell_type": "code",
   "execution_count": 114,
   "metadata": {},
   "outputs": [
    {
     "data": {
      "text/plain": [
       "0       Drama\n",
       "1       Crime\n",
       "2      Action\n",
       "3       Crime\n",
       "4       Crime\n",
       "        ...  \n",
       "995    Comedy\n",
       "996     Drama\n",
       "997     Drama\n",
       "998     Drama\n",
       "999     Crime\n",
       "Name: Genre, Length: 1000, dtype: object"
      ]
     },
     "execution_count": 114,
     "metadata": {},
     "output_type": "execute_result"
    }
   ],
   "source": [
    "data['Genre']"
   ]
  },
  {
   "cell_type": "code",
   "execution_count": 115,
   "metadata": {},
   "outputs": [
    {
     "name": "stdout",
     "output_type": "stream",
     "text": [
      "Original DataFrame:\n",
      "      Genre  IMDB_Rating\n",
      "0     Drama          9.3\n",
      "1     Crime          9.2\n",
      "2    Action          9.0\n",
      "3     Crime          9.0\n",
      "4     Crime          9.0\n",
      "..      ...          ...\n",
      "995  Comedy          7.6\n",
      "996   Drama          7.6\n",
      "997   Drama          7.6\n",
      "998   Drama          7.6\n",
      "999   Crime          7.6\n",
      "\n",
      "[1000 rows x 2 columns]\n",
      "\n",
      "Duplicate Genre :\n",
      "         Genre\n",
      "0        Drama\n",
      "1        Crime\n",
      "2       Action\n",
      "7    Biography\n",
      "12     Western\n",
      "19      Comedy\n",
      "21   Adventure\n",
      "23   Animation\n",
      "49      Horror\n",
      "69     Mystery\n",
      "309  Film-Noir\n",
      "321    Fantasy\n",
      "688     Family\n"
     ]
    }
   ],
   "source": [
    "import pandas as pd\n",
    "\n",
    "def duplicate_emails(data: pd.DataFrame) -> pd.DataFrame:\n",
    "    # Select rows with duplicated email addresses, keeping the last occurrence\n",
    "    duplicates = data[data.duplicated(subset='Genre', keep='last')]\n",
    "\n",
    "    # Select only the 'email' column and drop duplicate email addresses\n",
    "    result = duplicates[['Genre']].drop_duplicates()\n",
    "\n",
    "    return result\n",
    "\n",
    "def main():\n",
    "    # Example DataFrame\n",
    "    data_1 = data[['Genre', 'IMDB_Rating']]\n",
    "    person_df = pd.DataFrame(data_1)\n",
    "\n",
    "    # Applying the function\n",
    "    result_df = duplicate_emails(person_df)\n",
    "\n",
    "    # Displaying the result\n",
    "    print(\"Original DataFrame:\")\n",
    "    print(person_df)\n",
    "\n",
    "    print(\"\\nDuplicate Genre :\")\n",
    "    print(result_df)\n",
    "\n",
    "if __name__ == \"__main__\":\n",
    "    main()\n"
   ]
  },
  {
   "cell_type": "code",
   "execution_count": 116,
   "metadata": {},
   "outputs": [
    {
     "data": {
      "text/html": [
       "<div>\n",
       "<style scoped>\n",
       "    .dataframe tbody tr th:only-of-type {\n",
       "        vertical-align: middle;\n",
       "    }\n",
       "\n",
       "    .dataframe tbody tr th {\n",
       "        vertical-align: top;\n",
       "    }\n",
       "\n",
       "    .dataframe thead th {\n",
       "        text-align: right;\n",
       "    }\n",
       "</style>\n",
       "<table border=\"1\" class=\"dataframe\">\n",
       "  <thead>\n",
       "    <tr style=\"text-align: right;\">\n",
       "      <th></th>\n",
       "      <th>Series_Title</th>\n",
       "      <th>Released_Year</th>\n",
       "      <th>Runtime</th>\n",
       "      <th>Genre</th>\n",
       "      <th>IMDB_Rating</th>\n",
       "      <th>Director</th>\n",
       "      <th>Star1</th>\n",
       "      <th>No_of_Votes</th>\n",
       "      <th>Gross</th>\n",
       "      <th>Metascore</th>\n",
       "    </tr>\n",
       "  </thead>\n",
       "  <tbody>\n",
       "    <tr>\n",
       "      <th>0</th>\n",
       "      <td>The Shawshank Redemption</td>\n",
       "      <td>1994</td>\n",
       "      <td>142</td>\n",
       "      <td>Drama</td>\n",
       "      <td>9.3</td>\n",
       "      <td>Frank Darabont</td>\n",
       "      <td>Tim Robbins</td>\n",
       "      <td>2343110</td>\n",
       "      <td>28341469.0</td>\n",
       "      <td>80.0</td>\n",
       "    </tr>\n",
       "    <tr>\n",
       "      <th>1</th>\n",
       "      <td>The Godfather</td>\n",
       "      <td>1972</td>\n",
       "      <td>175</td>\n",
       "      <td>Crime</td>\n",
       "      <td>9.2</td>\n",
       "      <td>Francis Ford Coppola</td>\n",
       "      <td>Marlon Brando</td>\n",
       "      <td>1620367</td>\n",
       "      <td>134966411.0</td>\n",
       "      <td>100.0</td>\n",
       "    </tr>\n",
       "    <tr>\n",
       "      <th>2</th>\n",
       "      <td>The Dark Knight</td>\n",
       "      <td>2008</td>\n",
       "      <td>152</td>\n",
       "      <td>Action</td>\n",
       "      <td>9.0</td>\n",
       "      <td>Christopher Nolan</td>\n",
       "      <td>Christian Bale</td>\n",
       "      <td>2303232</td>\n",
       "      <td>534858444.0</td>\n",
       "      <td>84.0</td>\n",
       "    </tr>\n",
       "    <tr>\n",
       "      <th>3</th>\n",
       "      <td>The Godfather: Part II</td>\n",
       "      <td>1974</td>\n",
       "      <td>202</td>\n",
       "      <td>Crime</td>\n",
       "      <td>9.0</td>\n",
       "      <td>Francis Ford Coppola</td>\n",
       "      <td>Al Pacino</td>\n",
       "      <td>1129952</td>\n",
       "      <td>57300000.0</td>\n",
       "      <td>90.0</td>\n",
       "    </tr>\n",
       "    <tr>\n",
       "      <th>4</th>\n",
       "      <td>12 Angry Men</td>\n",
       "      <td>1957</td>\n",
       "      <td>96</td>\n",
       "      <td>Crime</td>\n",
       "      <td>9.0</td>\n",
       "      <td>Sidney Lumet</td>\n",
       "      <td>Henry Fonda</td>\n",
       "      <td>689845</td>\n",
       "      <td>4360000.0</td>\n",
       "      <td>96.0</td>\n",
       "    </tr>\n",
       "  </tbody>\n",
       "</table>\n",
       "</div>"
      ],
      "text/plain": [
       "               Series_Title Released_Year  Runtime   Genre  IMDB_Rating  \\\n",
       "0  The Shawshank Redemption          1994      142   Drama          9.3   \n",
       "1             The Godfather          1972      175   Crime          9.2   \n",
       "2           The Dark Knight          2008      152  Action          9.0   \n",
       "3    The Godfather: Part II          1974      202   Crime          9.0   \n",
       "4              12 Angry Men          1957       96   Crime          9.0   \n",
       "\n",
       "               Director           Star1  No_of_Votes        Gross  Metascore  \n",
       "0        Frank Darabont     Tim Robbins      2343110   28341469.0       80.0  \n",
       "1  Francis Ford Coppola   Marlon Brando      1620367  134966411.0      100.0  \n",
       "2     Christopher Nolan  Christian Bale      2303232  534858444.0       84.0  \n",
       "3  Francis Ford Coppola       Al Pacino      1129952   57300000.0       90.0  \n",
       "4          Sidney Lumet     Henry Fonda       689845    4360000.0       96.0  "
      ]
     },
     "execution_count": 116,
     "metadata": {},
     "output_type": "execute_result"
    }
   ],
   "source": [
    "data.head()"
   ]
  },
  {
   "cell_type": "code",
   "execution_count": 117,
   "metadata": {},
   "outputs": [
    {
     "name": "stdout",
     "output_type": "stream",
     "text": [
      "Original DataFrame\n",
      "                 Series_Title Released_Year\n",
      "0    The Shawshank Redemption          1994\n",
      "1               The Godfather          1972\n",
      "2             The Dark Knight          2008\n",
      "3      The Godfather: Part II          1974\n",
      "4                12 Angry Men          1957\n",
      "..                        ...           ...\n",
      "995    Breakfast at Tiffany's          1961\n",
      "996                     Giant          1956\n",
      "997     From Here to Eternity          1953\n",
      "998                  Lifeboat          1944\n",
      "999              The 39 Steps          1935\n",
      "\n",
      "[1000 rows x 2 columns]\n",
      "\n",
      "Duplicates in  Series_Title\n",
      "   Series_Title\n",
      "87     Drishyam\n"
     ]
    }
   ],
   "source": [
    "def duplicates_row(data: pd.DataFrame)->pd.DataFrame:\n",
    "     ans = data[data.duplicated(subset= 'Series_Title', keep = 'last')]\n",
    "     return ans[['Series_Title']].drop_duplicates()\n",
    "\n",
    "def main():\n",
    "     data_1 = data[['Series_Title', 'Released_Year']]\n",
    "     df = pd.DataFrame(data_1)\n",
    "     return_df = duplicates_row(df)\n",
    "     print('Original DataFrame')\n",
    "     print(df)\n",
    "     \n",
    "     print('\\nDuplicates in  Series_Title')\n",
    "     print(return_df)\n",
    "if __name__ == \"__main__\":\n",
    "     main() \n",
    "     "
   ]
  },
  {
   "cell_type": "code",
   "execution_count": 118,
   "metadata": {},
   "outputs": [],
   "source": [
    "def Duplcated(data : pd.DataFrame)->pd.DataFrame:\n",
    "     ans =  data[data.duplicated(subset= 'Released_Year', keep = 'last')]\n",
    "     return ans[['Released_Year']].drop_duplicates()\n",
    "def main():\n",
    "     Data_1 = data[['Released_Year', 'Runtime']]\n",
    "     Data_df = pd.DataFrame(Data_1)\n",
    "     result = Duplcated(Data_1)\n",
    "     print(\"\\nOriginal DataFrame\")\n",
    "     print(Data_df)\n",
    "     print(\"Released_Year : \\n\")\n",
    "     print(result)\n",
    "if __name__ == \"__main()__\":\n",
    "     main()"
   ]
  },
  {
   "cell_type": "code",
   "execution_count": 119,
   "metadata": {},
   "outputs": [
    {
     "data": {
      "text/html": [
       "<div>\n",
       "<style scoped>\n",
       "    .dataframe tbody tr th:only-of-type {\n",
       "        vertical-align: middle;\n",
       "    }\n",
       "\n",
       "    .dataframe tbody tr th {\n",
       "        vertical-align: top;\n",
       "    }\n",
       "\n",
       "    .dataframe thead th {\n",
       "        text-align: right;\n",
       "    }\n",
       "</style>\n",
       "<table border=\"1\" class=\"dataframe\">\n",
       "  <thead>\n",
       "    <tr style=\"text-align: right;\">\n",
       "      <th></th>\n",
       "      <th>Released_Year</th>\n",
       "    </tr>\n",
       "  </thead>\n",
       "  <tbody>\n",
       "    <tr>\n",
       "      <th>0</th>\n",
       "      <td>1994</td>\n",
       "    </tr>\n",
       "    <tr>\n",
       "      <th>1</th>\n",
       "      <td>1972</td>\n",
       "    </tr>\n",
       "    <tr>\n",
       "      <th>2</th>\n",
       "      <td>2008</td>\n",
       "    </tr>\n",
       "    <tr>\n",
       "      <th>3</th>\n",
       "      <td>1974</td>\n",
       "    </tr>\n",
       "    <tr>\n",
       "      <th>4</th>\n",
       "      <td>1957</td>\n",
       "    </tr>\n",
       "  </tbody>\n",
       "</table>\n",
       "</div>"
      ],
      "text/plain": [
       "  Released_Year\n",
       "0          1994\n",
       "1          1972\n",
       "2          2008\n",
       "3          1974\n",
       "4          1957"
      ]
     },
     "execution_count": 119,
     "metadata": {},
     "output_type": "execute_result"
    }
   ],
   "source": [
    "ans =  data[data.duplicated(subset= 'Released_Year', keep = 'last')][['Released_Year']].drop_duplicates()\n",
    "ans.head()"
   ]
  },
  {
   "cell_type": "code",
   "execution_count": 120,
   "metadata": {},
   "outputs": [
    {
     "data": {
      "text/plain": [
       "2023-01-01    1\n",
       "2023-01-15    2\n",
       "2023-02-01    3\n",
       "2023-02-15    4\n",
       "dtype: int64"
      ]
     },
     "execution_count": 120,
     "metadata": {},
     "output_type": "execute_result"
    }
   ],
   "source": [
    "ser = pd.Series([1, 2, 3, 4], index=pd.DatetimeIndex(['2023-01-01', '2023-01-15', '2023-02-01', '2023-02-15']))\n",
    "ser"
   ]
  },
  {
   "cell_type": "code",
   "execution_count": 121,
   "metadata": {},
   "outputs": [
    {
     "data": {
      "text/plain": [
       "{Timestamp('2023-01-01 00:00:00'): 2, Timestamp('2023-02-01 00:00:00'): 4}"
      ]
     },
     "execution_count": 121,
     "metadata": {},
     "output_type": "execute_result"
    }
   ],
   "source": [
    "\n",
    "ser.resample('MS').groups"
   ]
  },
  {
   "cell_type": "code",
   "execution_count": null,
   "metadata": {},
   "outputs": [],
   "source": []
  }
 ],
 "metadata": {
  "kernelspec": {
   "display_name": "Python 3",
   "language": "python",
   "name": "python3"
  },
  "language_info": {
   "codemirror_mode": {
    "name": "ipython",
    "version": 3
   },
   "file_extension": ".py",
   "mimetype": "text/x-python",
   "name": "python",
   "nbconvert_exporter": "python",
   "pygments_lexer": "ipython3",
   "version": "3.10.8"
  }
 },
 "nbformat": 4,
 "nbformat_minor": 2
}
